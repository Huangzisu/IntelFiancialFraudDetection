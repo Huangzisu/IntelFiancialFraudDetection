{
  "cells": [
    {
      "cell_type": "code",
      "execution_count": 16,
      "metadata": {
        "id": "GZMOloRwBzUi"
      },
      "outputs": [],
      "source": [
        "import pandas as pd\n",
        "x_train = pd.read_csv(\"x_train_final.csv\")\n",
        "y_train = pd.read_csv(\"y_train_final.csv\")\n",
        "x_test = pd.read_csv(\"x_test_final.csv\")\n",
        "y_test = pd.read_csv(\"y_test_final.csv\")"
      ]
    },
    {
      "cell_type": "code",
      "execution_count": 17,
      "metadata": {
        "id": "ah15ryac_ZZo"
      },
      "outputs": [],
      "source": [
        "import xgboost as xgb\n",
        "from sklearn.metrics import f1_score\n",
        "\n",
        "# 读取数据\n",
        "def test_xgboost(x_train, y_train, x_test, y_test):\n",
        "  # 创建XGBoost分类器模型\n",
        "  model = xgb.XGBClassifier(\n",
        "      objective='binary:logistic',  # 二分类问题\n",
        "      eval_metric='logloss',  # 评估指标选择对数损失\n",
        "      n_estimators = 300,\n",
        "      learning_rate = 0.1\n",
        "  )\n",
        "\n",
        "  # 训练模型\n",
        "  model.fit(x_train, y_train)\n",
        "\n",
        "  # 预测\n",
        "  predictions = model.predict(x_test)\n",
        "\n",
        "  # 计算F1值\n",
        "  f1 = f1_score(y_test, predictions)\n",
        "\n",
        "  print(f\"F1 Score: {f1}\")"
      ]
    },
    {
      "cell_type": "code",
      "execution_count": 18,
      "metadata": {
        "colab": {
          "base_uri": "https://localhost:8080/"
        },
        "id": "zlOMuL0iCey-",
        "outputId": "187c73b7-24a8-42e4-f5bd-c9005a8d0570"
      },
      "outputs": [
        {
          "output_type": "stream",
          "name": "stdout",
          "text": [
            "Before ROS: Counter({'Class': 1})\n",
            "After ROS: Counter({'Class': 1})\n",
            "F1 Score: 0.8972972972972973\n"
          ]
        }
      ],
      "source": [
        "from imblearn.over_sampling import RandomOverSampler\n",
        "from collections import Counter\n",
        "\n",
        "def Random_Oversampling(x_train, y_train):\n",
        "    print('Before ROS: {0}'.format(Counter(y_train)))\n",
        "    ros = RandomOverSampler(random_state=42, sampling_strategy='auto') # 'auto' means proportion --- 1:1\n",
        "    x_train_ros, y_train_ros = ros.fit_resample(x_train, y_train)\n",
        "    print('After ROS: {0}'.format(Counter(y_train_ros)))\n",
        "    return x_train_ros, y_train_ros\n",
        "\n",
        "x_train_ros, y_train_ros = Random_Oversampling(x_train, y_train)\n",
        "test_xgboost(x_train_ros, y_train_ros,x_test,y_test)"
      ]
    }
  ],
  "metadata": {
    "colab": {
      "provenance": []
    },
    "kernelspec": {
      "display_name": "Python 3",
      "name": "python3"
    },
    "language_info": {
      "name": "python"
    }
  },
  "nbformat": 4,
  "nbformat_minor": 0
}