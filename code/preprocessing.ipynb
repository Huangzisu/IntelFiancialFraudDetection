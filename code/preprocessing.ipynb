{
 "cells": [
  {
   "cell_type": "code",
   "execution_count": 1,
   "id": "b90e4ba3-ec7a-4441-a722-d86beb1cb297",
   "metadata": {},
   "outputs": [],
   "source": [
    "import modin.pandas as modin_pd\n",
    "import pandas as pd"
   ]
  },
  {
   "cell_type": "code",
   "execution_count": 2,
   "id": "6836adc2-9ef1-4a7a-adda-67f5229edf38",
   "metadata": {},
   "outputs": [],
   "source": [
    "import time\n",
    "import warnings\n",
    "import matplotlib.pyplot as plt\n",
    "plt.style.use('ggplot')\n",
    "warnings.filterwarnings('ignore')"
   ]
  },
  {
   "cell_type": "code",
   "execution_count": 15,
   "id": "5447479e-35c0-4825-88db-d7a7a09d166f",
   "metadata": {},
   "outputs": [
    {
     "name": "stdout",
     "output_type": "stream",
     "text": [
      "normal_pd loading time: 1.4126214981079102\n",
      "modin_pd loading time: 0.16202569007873535\n"
     ]
    }
   ],
   "source": [
    "start_pd = time.time()\n",
    "df = pd.read_csv('creditcard.csv')\n",
    "end_pd = time.time()\n",
    "print(\"normal_pd loading time: \" + str(end_pd-start_pd))\n",
    "start_modin_pd = time.time()\n",
    "df = modin_pd.read_csv('creditcard.csv')\n",
    "end_modin_pd = time.time()\n",
    "print(\"modin_pd loading time: \" + str(end_modin_pd-start_modin_pd))"
   ]
  },
  {
   "cell_type": "code",
   "execution_count": 4,
   "id": "d7d59239-1762-4dcf-b64d-7e2246252587",
   "metadata": {},
   "outputs": [
    {
     "name": "stdout",
     "output_type": "stream",
     "text": [
      "(284807, 31)\n",
      "Index(['Time', 'V1', 'V2', 'V3', 'V4', 'V5', 'V6', 'V7', 'V8', 'V9', 'V10',\n",
      "       'V11', 'V12', 'V13', 'V14', 'V15', 'V16', 'V17', 'V18', 'V19', 'V20',\n",
      "       'V21', 'V22', 'V23', 'V24', 'V25', 'V26', 'V27', 'V28', 'Amount',\n",
      "       'Class'],\n",
      "      dtype='object')\n"
     ]
    },
    {
     "data": {
      "text/html": [
       "<div>\n",
       "<style scoped>\n",
       "    .dataframe tbody tr th:only-of-type {\n",
       "        vertical-align: middle;\n",
       "    }\n",
       "\n",
       "    .dataframe tbody tr th {\n",
       "        vertical-align: top;\n",
       "    }\n",
       "\n",
       "    .dataframe thead th {\n",
       "        text-align: right;\n",
       "    }\n",
       "</style>\n",
       "<table border=\"1\" class=\"dataframe\">\n",
       "  <thead>\n",
       "    <tr style=\"text-align: right;\">\n",
       "      <th></th>\n",
       "      <th>Time</th>\n",
       "      <th>V1</th>\n",
       "      <th>V2</th>\n",
       "      <th>V3</th>\n",
       "      <th>V4</th>\n",
       "      <th>V5</th>\n",
       "      <th>V6</th>\n",
       "      <th>V7</th>\n",
       "      <th>V8</th>\n",
       "      <th>V9</th>\n",
       "      <th>...</th>\n",
       "      <th>V21</th>\n",
       "      <th>V22</th>\n",
       "      <th>V23</th>\n",
       "      <th>V24</th>\n",
       "      <th>V25</th>\n",
       "      <th>V26</th>\n",
       "      <th>V27</th>\n",
       "      <th>V28</th>\n",
       "      <th>Amount</th>\n",
       "      <th>Class</th>\n",
       "    </tr>\n",
       "  </thead>\n",
       "  <tbody>\n",
       "    <tr>\n",
       "      <th>0</th>\n",
       "      <td>0.0</td>\n",
       "      <td>-1.359807</td>\n",
       "      <td>-0.072781</td>\n",
       "      <td>2.536347</td>\n",
       "      <td>1.378155</td>\n",
       "      <td>-0.338321</td>\n",
       "      <td>0.462388</td>\n",
       "      <td>0.239599</td>\n",
       "      <td>0.098698</td>\n",
       "      <td>0.363787</td>\n",
       "      <td>...</td>\n",
       "      <td>-0.018307</td>\n",
       "      <td>0.277838</td>\n",
       "      <td>-0.110474</td>\n",
       "      <td>0.066928</td>\n",
       "      <td>0.128539</td>\n",
       "      <td>-0.189115</td>\n",
       "      <td>0.133558</td>\n",
       "      <td>-0.021053</td>\n",
       "      <td>149.62</td>\n",
       "      <td>0</td>\n",
       "    </tr>\n",
       "    <tr>\n",
       "      <th>1</th>\n",
       "      <td>0.0</td>\n",
       "      <td>1.191857</td>\n",
       "      <td>0.266151</td>\n",
       "      <td>0.166480</td>\n",
       "      <td>0.448154</td>\n",
       "      <td>0.060018</td>\n",
       "      <td>-0.082361</td>\n",
       "      <td>-0.078803</td>\n",
       "      <td>0.085102</td>\n",
       "      <td>-0.255425</td>\n",
       "      <td>...</td>\n",
       "      <td>-0.225775</td>\n",
       "      <td>-0.638672</td>\n",
       "      <td>0.101288</td>\n",
       "      <td>-0.339846</td>\n",
       "      <td>0.167170</td>\n",
       "      <td>0.125895</td>\n",
       "      <td>-0.008983</td>\n",
       "      <td>0.014724</td>\n",
       "      <td>2.69</td>\n",
       "      <td>0</td>\n",
       "    </tr>\n",
       "    <tr>\n",
       "      <th>2</th>\n",
       "      <td>1.0</td>\n",
       "      <td>-1.358354</td>\n",
       "      <td>-1.340163</td>\n",
       "      <td>1.773209</td>\n",
       "      <td>0.379780</td>\n",
       "      <td>-0.503198</td>\n",
       "      <td>1.800499</td>\n",
       "      <td>0.791461</td>\n",
       "      <td>0.247676</td>\n",
       "      <td>-1.514654</td>\n",
       "      <td>...</td>\n",
       "      <td>0.247998</td>\n",
       "      <td>0.771679</td>\n",
       "      <td>0.909412</td>\n",
       "      <td>-0.689281</td>\n",
       "      <td>-0.327642</td>\n",
       "      <td>-0.139097</td>\n",
       "      <td>-0.055353</td>\n",
       "      <td>-0.059752</td>\n",
       "      <td>378.66</td>\n",
       "      <td>0</td>\n",
       "    </tr>\n",
       "    <tr>\n",
       "      <th>3</th>\n",
       "      <td>1.0</td>\n",
       "      <td>-0.966272</td>\n",
       "      <td>-0.185226</td>\n",
       "      <td>1.792993</td>\n",
       "      <td>-0.863291</td>\n",
       "      <td>-0.010309</td>\n",
       "      <td>1.247203</td>\n",
       "      <td>0.237609</td>\n",
       "      <td>0.377436</td>\n",
       "      <td>-1.387024</td>\n",
       "      <td>...</td>\n",
       "      <td>-0.108300</td>\n",
       "      <td>0.005274</td>\n",
       "      <td>-0.190321</td>\n",
       "      <td>-1.175575</td>\n",
       "      <td>0.647376</td>\n",
       "      <td>-0.221929</td>\n",
       "      <td>0.062723</td>\n",
       "      <td>0.061458</td>\n",
       "      <td>123.50</td>\n",
       "      <td>0</td>\n",
       "    </tr>\n",
       "    <tr>\n",
       "      <th>4</th>\n",
       "      <td>2.0</td>\n",
       "      <td>-1.158233</td>\n",
       "      <td>0.877737</td>\n",
       "      <td>1.548718</td>\n",
       "      <td>0.403034</td>\n",
       "      <td>-0.407193</td>\n",
       "      <td>0.095921</td>\n",
       "      <td>0.592941</td>\n",
       "      <td>-0.270533</td>\n",
       "      <td>0.817739</td>\n",
       "      <td>...</td>\n",
       "      <td>-0.009431</td>\n",
       "      <td>0.798278</td>\n",
       "      <td>-0.137458</td>\n",
       "      <td>0.141267</td>\n",
       "      <td>-0.206010</td>\n",
       "      <td>0.502292</td>\n",
       "      <td>0.219422</td>\n",
       "      <td>0.215153</td>\n",
       "      <td>69.99</td>\n",
       "      <td>0</td>\n",
       "    </tr>\n",
       "  </tbody>\n",
       "</table>\n",
       "<p>5 rows x 31 columns</p>\n",
       "</div>"
      ],
      "text/plain": [
       "   Time        V1        V2        V3        V4        V5        V6        V7  \\\n",
       "0   0.0 -1.359807 -0.072781  2.536347  1.378155 -0.338321  0.462388  0.239599   \n",
       "1   0.0  1.191857  0.266151  0.166480  0.448154  0.060018 -0.082361 -0.078803   \n",
       "2   1.0 -1.358354 -1.340163  1.773209  0.379780 -0.503198  1.800499  0.791461   \n",
       "3   1.0 -0.966272 -0.185226  1.792993 -0.863291 -0.010309  1.247203  0.237609   \n",
       "4   2.0 -1.158233  0.877737  1.548718  0.403034 -0.407193  0.095921  0.592941   \n",
       "\n",
       "         V8        V9  ...       V21       V22       V23       V24       V25  \\\n",
       "0  0.098698  0.363787  ... -0.018307  0.277838 -0.110474  0.066928  0.128539   \n",
       "1  0.085102 -0.255425  ... -0.225775 -0.638672  0.101288 -0.339846  0.167170   \n",
       "2  0.247676 -1.514654  ...  0.247998  0.771679  0.909412 -0.689281 -0.327642   \n",
       "3  0.377436 -1.387024  ... -0.108300  0.005274 -0.190321 -1.175575  0.647376   \n",
       "4 -0.270533  0.817739  ... -0.009431  0.798278 -0.137458  0.141267 -0.206010   \n",
       "\n",
       "        V26       V27       V28  Amount  Class  \n",
       "0 -0.189115  0.133558 -0.021053  149.62      0  \n",
       "1  0.125895 -0.008983  0.014724    2.69      0  \n",
       "2 -0.139097 -0.055353 -0.059752  378.66      0  \n",
       "3 -0.221929  0.062723  0.061458  123.50      0  \n",
       "4  0.502292  0.219422  0.215153   69.99      0  \n",
       "\n",
       "[5 rows x 31 columns]"
      ]
     },
     "metadata": {},
     "output_type": "display_data"
    }
   ],
   "source": [
    "print(df.shape)\n",
    "print(df.columns)\n",
    "display(df.head())"
   ]
  },
  {
   "cell_type": "markdown",
   "id": "18e1017f-55c9-46fc-98ea-312bccda50c4",
   "metadata": {
    "tags": []
   },
   "source": [
    "# Data Preprocessing"
   ]
  },
  {
   "cell_type": "markdown",
   "id": "00e455c9-6be2-4e81-baa9-d5312f509257",
   "metadata": {},
   "source": [
    "## Feature Engineering"
   ]
  },
  {
   "cell_type": "markdown",
   "id": "90030dbe-93fd-4b7e-ad6d-14bd03278983",
   "metadata": {},
   "source": [
    "### Null Value Detection"
   ]
  },
  {
   "cell_type": "code",
   "execution_count": 5,
   "id": "034fbeef-4263-4ea6-868b-5f017e8c3afa",
   "metadata": {},
   "outputs": [
    {
     "name": "stdout",
     "output_type": "stream",
     "text": [
      "数据集中没有缺失值。\n"
     ]
    }
   ],
   "source": [
    "def check_missing_values(df):\n",
    "    # 统计每个特征的缺失值数量\n",
    "    missing_values = df.isnull().sum()\n",
    "\n",
    "    # 获取包含缺失值的特征列表\n",
    "    features_with_missing_values = missing_values[missing_values > 0].index.tolist()\n",
    "\n",
    "    # 打印结果\n",
    "    if not features_with_missing_values:\n",
    "        print(\"数据集中没有缺失值。\")\n",
    "    else:\n",
    "        print(\"包含缺失值的特征列表:\")\n",
    "        for feature in features_with_missing_values:\n",
    "            print(f\"{feature}: {missing_values[feature]} 个缺失值\")\n",
    "\n",
    "check_missing_values(df)"
   ]
  },
  {
   "cell_type": "markdown",
   "id": "96b2c9e4-a02b-4733-ad1e-243cbb3fc861",
   "metadata": {},
   "source": [
    "### Correlation Analysis"
   ]
  },
  {
   "cell_type": "code",
   "execution_count": 6,
   "id": "d07cb2f3-446d-4f86-bf74-746cd84b151e",
   "metadata": {},
   "outputs": [
    {
     "data": {
      "image/png": "[encoded data removed]",
      "text/plain": [
       "<Figure size 2000x1000 with 1 Axes>"
      ]
     },
     "metadata": {},
     "output_type": "display_data"
    },
    {
     "name": "stdout",
     "output_type": "stream",
     "text": [
      "corr_features: ['V2', 'V3', 'V4', 'V5', 'V7', 'V9', 'V10', 'V11', 'V12', 'V14', 'V16', 'V17', 'V18', 'Class']\n"
     ]
    }
   ],
   "source": [
    "def corr_analyze(df, target_label):\n",
    "    # 计算特征与目标标签的相关性\n",
    "    correlation_with_target = df.corr()[target_label]\n",
    "\n",
    "    # 绘制柱状图\n",
    "    correlation_with_target.drop(target_label).sort_values().plot(kind='barh',figsize=(20, 10))\n",
    "    plt.title(f'Correlation with {target_label}')\n",
    "    plt.xlabel('Correlation Coefficient')\n",
    "    plt.show()\n",
    "\n",
    "    threshold = 0.05\n",
    "    return correlation_with_target[correlation_with_target.abs() > threshold].index.tolist()[1:]\n",
    "\n",
    "corr_features = corr_analyze(df, 'Class')\n",
    "print(\"corr_features: {a}\".format(a=corr_features))"
   ]
  },
  {
   "cell_type": "markdown",
   "id": "75122fd0-1fb3-4b99-a576-8d46c0079d1f",
   "metadata": {},
   "source": [
    "通过上图各特征关于标签的皮尔逊相关系数，它的数值对于有线性关系的两个变量来说绝对值越接近1越好。因此我们可以发现，有部分特征的皮尔逊相关系数绝对值在0附近，因此可以考虑去掉这些特征。（这个只反映线性的相关性，因此对于非线性相关的变量，还需进一步分析）"
   ]
  },
  {
   "cell_type": "markdown",
   "id": "9b9ae68f-fe74-4640-b773-1b2b1fcebcda",
   "metadata": {},
   "source": [
    "### Mutual Information Analysis"
   ]
  },
  {
   "cell_type": "code",
   "execution_count": 7,
   "id": "81f5df30-82b5-4135-a67d-df9c628a5813",
   "metadata": {},
   "outputs": [
    {
     "name": "stderr",
     "output_type": "stream",
     "text": [
      "Intel(R) Extension for Scikit-learn* enabled (https://github.com/intel/scikit-learn-intelex)\n"
     ]
    }
   ],
   "source": [
    "from sklearnex import patch_sklearn\n",
    "patch_sklearn()"
   ]
  },
  {
   "cell_type": "code",
   "execution_count": 8,
   "id": "f9d2497c-df7f-4bbc-b892-857d1fa73def",
   "metadata": {},
   "outputs": [
    {
     "data": {
      "image/png": "[encoded data removed]",
      "text/plain": [
       "<Figure size 640x480 with 1 Axes>"
      ]
     },
     "metadata": {},
     "output_type": "display_data"
    },
    {
     "data": {
      "text/plain": [
       "<Figure size 4000x1200 with 0 Axes>"
      ]
     },
     "metadata": {},
     "output_type": "display_data"
    },
    {
     "name": "stdout",
     "output_type": "stream",
     "text": [
      "mutual_info_features: ['V17', 'V14', 'V12', 'V10', 'V11', 'V16', 'V4', 'V3', 'V18', 'V9', 'V7', 'V2', 'V21', 'V27', 'V5', 'V6', 'V1']\n"
     ]
    }
   ],
   "source": [
    "from sklearn.feature_selection import mutual_info_classif\n",
    "\n",
    "def mutual_information_analysis(X, y):\n",
    "    # 计算互信息\n",
    "    mi_scores = []\n",
    "\n",
    "    for feature in X.columns:\n",
    "        mi_score = mutual_info_classif(X[feature].values.reshape(-1, 1), y)[0]\n",
    "        mi_scores.append(mi_score)\n",
    "\n",
    "    # 创建一个 DataFrame 用于可视化\n",
    "    mi_df = modin_pd.DataFrame({'Feature': X.columns, 'Mutual_Information': mi_scores})\n",
    "\n",
    "    # 按互信息值降序排序\n",
    "    mi_df = mi_df.sort_values(by='Mutual_Information', ascending=False)\n",
    "\n",
    "    # 绘制互信息图表\n",
    "    plt.bar(mi_df['Feature'], mi_df['Mutual_Information'])\n",
    "    plt.xlabel('Feature')\n",
    "    plt.ylabel('Mutual Information')\n",
    "    plt.title('Mutual Information Analysis')\n",
    "#     plt.xticks(rotation=45, ha='right'\n",
    "    plt.xticks(rotation=90)\n",
    "    plt.figure(figsize=(40, 12))\n",
    "    plt.show()\n",
    "\n",
    "    # 筛选互信息大于阈值的特征\n",
    "    threshold = 0.002  # 设置互信息阈值\n",
    "    selected_features = mi_df[mi_df['Mutual_Information'] > threshold]['Feature'].tolist()\n",
    "\n",
    "    return selected_features\n",
    "\n",
    "mutual_info_features = mutual_information_analysis(df.drop(columns=\"Class\"), df['Class'])\n",
    "print(\"mutual_info_features: {a}\".format(a=mutual_info_features))"
   ]
  },
  {
   "cell_type": "markdown",
   "id": "fede9054-b480-4c8f-909a-08f21738b764",
   "metadata": {},
   "source": [
    "### Variance Analysis"
   ]
  },
  {
   "cell_type": "code",
   "execution_count": 9,
   "id": "7e208df3-e5fa-4dcc-9f86-082d4fff314f",
   "metadata": {},
   "outputs": [
    {
     "data": {
      "image/png": "[encoded data removed]",
      "text/plain": [
       "<Figure size 640x480 with 1 Axes>"
      ]
     },
     "metadata": {},
     "output_type": "display_data"
    },
    {
     "name": "stdout",
     "output_type": "stream",
     "text": [
      "variance_features: ['V1', 'V2', 'V3', 'V4', 'V5', 'V6', 'V7', 'V8', 'V9', 'V10', 'V11', 'V12', 'V13', 'V14', 'V15', 'V16', 'V17', 'V18', 'V19', 'V20', 'V21', 'V22']\n"
     ]
    }
   ],
   "source": [
    "from sklearn.feature_selection import VarianceThreshold\n",
    "\n",
    "def variance_analysis(data):\n",
    "    variances = data.var()\n",
    "    \n",
    "#     plt.figure(figsize=(12, 6))\n",
    "    variances.plot(kind='bar')\n",
    "    plt.title('Feature Variances')\n",
    "    plt.xlabel('Feature')\n",
    "    plt.ylabel('Variance')\n",
    "    plt.show()\n",
    "    threshold = 0.5\n",
    "    selector = VarianceThreshold(threshold=threshold)\n",
    "    selector.fit(data)\n",
    "    \n",
    "    # 获取通过阈值筛选后的特征\n",
    "    selected_features = data.columns[selector.get_support()].tolist()\n",
    "\n",
    "    return selected_features\n",
    "\n",
    "variance_features = variance_analysis(df.drop(columns=[\"Class\",'Time','Amount']))\n",
    "print(\"variance_features: {a}\".format(a=variance_features))\n"
   ]
  },
  {
   "cell_type": "code",
   "execution_count": 10,
   "id": "d1a5a649-2187-4d51-815e-245f9ce711db",
   "metadata": {},
   "outputs": [
    {
     "name": "stdout",
     "output_type": "stream",
     "text": [
      "['V18', 'V2', 'V5', 'V3', 'V17', 'V16', 'V4', 'V12', 'V9', 'V7', 'V11', 'V14', 'V10', 'Amount', 'Time']\n"
     ]
    }
   ],
   "source": [
    "def get_common_features(feature_lists):\n",
    "    # 将第一个列表转换为集合\n",
    "    common_elements = set(feature_lists[0])\n",
    "    \n",
    "    # 对所有其他列表取交集\n",
    "    for feature_list in feature_lists[1:]:\n",
    "        common_elements = common_elements.intersection(feature_list)\n",
    "    \n",
    "    # 转换为列表并返回\n",
    "    result_list = list(common_elements)\n",
    "    result_list.append('Amount')\n",
    "    result_list.append('Time')\n",
    "    return result_list\n",
    "\n",
    "selected_features = get_common_features([corr_features, variance_features, mutual_info_features])\n",
    "print(selected_features)"
   ]
  },
  {
   "cell_type": "code",
   "execution_count": 11,
   "id": "d3987d8a-6172-4e48-8abb-85e18b000a0e",
   "metadata": {},
   "outputs": [
    {
     "name": "stdout",
     "output_type": "stream",
     "text": [
      "['V18', 'V2', 'V5', 'V3', 'V17', 'V16', 'V4', 'V12', 'V9', 'V7', 'V11', 'V14', 'V10', 'Amount', 'Time']\n"
     ]
    },
    {
     "data": {
      "text/html": [
       "<div>\n",
       "<style scoped>\n",
       "    .dataframe tbody tr th:only-of-type {\n",
       "        vertical-align: middle;\n",
       "    }\n",
       "\n",
       "    .dataframe tbody tr th {\n",
       "        vertical-align: top;\n",
       "    }\n",
       "\n",
       "    .dataframe thead th {\n",
       "        text-align: right;\n",
       "    }\n",
       "</style>\n",
       "<table border=\"1\" class=\"dataframe\">\n",
       "  <thead>\n",
       "    <tr style=\"text-align: right;\">\n",
       "      <th></th>\n",
       "      <th>V18</th>\n",
       "      <th>V2</th>\n",
       "      <th>V5</th>\n",
       "      <th>V3</th>\n",
       "      <th>V17</th>\n",
       "      <th>V16</th>\n",
       "      <th>V4</th>\n",
       "      <th>V12</th>\n",
       "      <th>V9</th>\n",
       "      <th>V7</th>\n",
       "      <th>V11</th>\n",
       "      <th>V14</th>\n",
       "      <th>V10</th>\n",
       "      <th>Amount</th>\n",
       "      <th>Time</th>\n",
       "      <th>Class</th>\n",
       "    </tr>\n",
       "  </thead>\n",
       "  <tbody>\n",
       "    <tr>\n",
       "      <th>0</th>\n",
       "      <td>0.025791</td>\n",
       "      <td>-0.072781</td>\n",
       "      <td>-0.338321</td>\n",
       "      <td>2.536347</td>\n",
       "      <td>0.207971</td>\n",
       "      <td>-0.470401</td>\n",
       "      <td>1.378155</td>\n",
       "      <td>-0.617801</td>\n",
       "      <td>0.363787</td>\n",
       "      <td>0.239599</td>\n",
       "      <td>-0.551600</td>\n",
       "      <td>-0.311169</td>\n",
       "      <td>0.090794</td>\n",
       "      <td>149.62</td>\n",
       "      <td>0.0</td>\n",
       "      <td>0</td>\n",
       "    </tr>\n",
       "    <tr>\n",
       "      <th>1</th>\n",
       "      <td>-0.183361</td>\n",
       "      <td>0.266151</td>\n",
       "      <td>0.060018</td>\n",
       "      <td>0.166480</td>\n",
       "      <td>-0.114805</td>\n",
       "      <td>0.463917</td>\n",
       "      <td>0.448154</td>\n",
       "      <td>1.065235</td>\n",
       "      <td>-0.255425</td>\n",
       "      <td>-0.078803</td>\n",
       "      <td>1.612727</td>\n",
       "      <td>-0.143772</td>\n",
       "      <td>-0.166974</td>\n",
       "      <td>2.69</td>\n",
       "      <td>0.0</td>\n",
       "      <td>0</td>\n",
       "    </tr>\n",
       "    <tr>\n",
       "      <th>2</th>\n",
       "      <td>-0.121359</td>\n",
       "      <td>-1.340163</td>\n",
       "      <td>-0.503198</td>\n",
       "      <td>1.773209</td>\n",
       "      <td>1.109969</td>\n",
       "      <td>-2.890083</td>\n",
       "      <td>0.379780</td>\n",
       "      <td>0.066084</td>\n",
       "      <td>-1.514654</td>\n",
       "      <td>0.791461</td>\n",
       "      <td>0.624501</td>\n",
       "      <td>-0.165946</td>\n",
       "      <td>0.207643</td>\n",
       "      <td>378.66</td>\n",
       "      <td>1.0</td>\n",
       "      <td>0</td>\n",
       "    </tr>\n",
       "    <tr>\n",
       "      <th>3</th>\n",
       "      <td>1.965775</td>\n",
       "      <td>-0.185226</td>\n",
       "      <td>-0.010309</td>\n",
       "      <td>1.792993</td>\n",
       "      <td>-0.684093</td>\n",
       "      <td>-1.059647</td>\n",
       "      <td>-0.863291</td>\n",
       "      <td>0.178228</td>\n",
       "      <td>-1.387024</td>\n",
       "      <td>0.237609</td>\n",
       "      <td>-0.226487</td>\n",
       "      <td>-0.287924</td>\n",
       "      <td>-0.054952</td>\n",
       "      <td>123.50</td>\n",
       "      <td>1.0</td>\n",
       "      <td>0</td>\n",
       "    </tr>\n",
       "    <tr>\n",
       "      <th>4</th>\n",
       "      <td>-0.038195</td>\n",
       "      <td>0.877737</td>\n",
       "      <td>-0.407193</td>\n",
       "      <td>1.548718</td>\n",
       "      <td>-0.237033</td>\n",
       "      <td>-0.451449</td>\n",
       "      <td>0.403034</td>\n",
       "      <td>0.538196</td>\n",
       "      <td>0.817739</td>\n",
       "      <td>0.592941</td>\n",
       "      <td>-0.822843</td>\n",
       "      <td>-1.119670</td>\n",
       "      <td>0.753074</td>\n",
       "      <td>69.99</td>\n",
       "      <td>2.0</td>\n",
       "      <td>0</td>\n",
       "    </tr>\n",
       "  </tbody>\n",
       "</table>\n",
       "</div>"
      ],
      "text/plain": [
       "        V18        V2        V5        V3       V17       V16        V4  \\\n",
       "0  0.025791 -0.072781 -0.338321  2.536347  0.207971 -0.470401  1.378155   \n",
       "1 -0.183361  0.266151  0.060018  0.166480 -0.114805  0.463917  0.448154   \n",
       "2 -0.121359 -1.340163 -0.503198  1.773209  1.109969 -2.890083  0.379780   \n",
       "3  1.965775 -0.185226 -0.010309  1.792993 -0.684093 -1.059647 -0.863291   \n",
       "4 -0.038195  0.877737 -0.407193  1.548718 -0.237033 -0.451449  0.403034   \n",
       "\n",
       "        V12        V9        V7       V11       V14       V10  Amount  Time  \\\n",
       "0 -0.617801  0.363787  0.239599 -0.551600 -0.311169  0.090794  149.62   0.0   \n",
       "1  1.065235 -0.255425 -0.078803  1.612727 -0.143772 -0.166974    2.69   0.0   \n",
       "2  0.066084 -1.514654  0.791461  0.624501 -0.165946  0.207643  378.66   1.0   \n",
       "3  0.178228 -1.387024  0.237609 -0.226487 -0.287924 -0.054952  123.50   1.0   \n",
       "4  0.538196  0.817739  0.592941 -0.822843 -1.119670  0.753074   69.99   2.0   \n",
       "\n",
       "   Class  \n",
       "0      0  \n",
       "1      0  \n",
       "2      0  \n",
       "3      0  \n",
       "4      0  "
      ]
     },
     "metadata": {},
     "output_type": "display_data"
    }
   ],
   "source": [
    "print(selected_features)\n",
    "selected_df = df[selected_features + ['Class']]\n",
    "display(selected_df.head())"
   ]
  },
  {
   "cell_type": "code",
   "execution_count": 12,
   "id": "6f27ead6-2881-475f-90fd-68bac0129341",
   "metadata": {},
   "outputs": [
    {
     "data": {
      "text/plain": [
       "Index(['V18', 'V2', 'V5', 'V3', 'V17', 'V16', 'V4', 'V12', 'V9', 'V7', 'V11',\n",
       "       'V14', 'V10', 'Amount', 'Time', 'Class'],\n",
       "      dtype='object')"
      ]
     },
     "execution_count": 12,
     "metadata": {},
     "output_type": "execute_result"
    }
   ],
   "source": [
    "selected_df.columns"
   ]
  },
  {
   "cell_type": "markdown",
   "id": "290fb7bd-5e8e-423d-90fa-bf74f8c3a2ca",
   "metadata": {},
   "source": [
    "## Normalization"
   ]
  },
  {
   "cell_type": "code",
   "execution_count": 13,
   "id": "a0627eec-3a7e-47cc-a0eb-90fcfabd6204",
   "metadata": {},
   "outputs": [
    {
     "data": {
      "text/html": [
       "<div>\n",
       "<style scoped>\n",
       "    .dataframe tbody tr th:only-of-type {\n",
       "        vertical-align: middle;\n",
       "    }\n",
       "\n",
       "    .dataframe tbody tr th {\n",
       "        vertical-align: top;\n",
       "    }\n",
       "\n",
       "    .dataframe thead th {\n",
       "        text-align: right;\n",
       "    }\n",
       "</style>\n",
       "<table border=\"1\" class=\"dataframe\">\n",
       "  <thead>\n",
       "    <tr style=\"text-align: right;\">\n",
       "      <th></th>\n",
       "      <th>V18</th>\n",
       "      <th>V2</th>\n",
       "      <th>V5</th>\n",
       "      <th>V3</th>\n",
       "      <th>V17</th>\n",
       "      <th>V16</th>\n",
       "      <th>V4</th>\n",
       "      <th>V12</th>\n",
       "      <th>V9</th>\n",
       "      <th>V7</th>\n",
       "      <th>V11</th>\n",
       "      <th>V14</th>\n",
       "      <th>V10</th>\n",
       "      <th>Amount</th>\n",
       "      <th>Time</th>\n",
       "    </tr>\n",
       "  </thead>\n",
       "  <tbody>\n",
       "    <tr>\n",
       "      <th>0</th>\n",
       "      <td>0.025791</td>\n",
       "      <td>-0.072781</td>\n",
       "      <td>-0.338321</td>\n",
       "      <td>2.536347</td>\n",
       "      <td>0.207971</td>\n",
       "      <td>-0.470401</td>\n",
       "      <td>1.378155</td>\n",
       "      <td>-0.617801</td>\n",
       "      <td>0.363787</td>\n",
       "      <td>0.239599</td>\n",
       "      <td>-0.551600</td>\n",
       "      <td>-0.311169</td>\n",
       "      <td>0.090794</td>\n",
       "      <td>0.244964</td>\n",
       "      <td>-1.996583</td>\n",
       "    </tr>\n",
       "    <tr>\n",
       "      <th>1</th>\n",
       "      <td>-0.183361</td>\n",
       "      <td>0.266151</td>\n",
       "      <td>0.060018</td>\n",
       "      <td>0.166480</td>\n",
       "      <td>-0.114805</td>\n",
       "      <td>0.463917</td>\n",
       "      <td>0.448154</td>\n",
       "      <td>1.065235</td>\n",
       "      <td>-0.255425</td>\n",
       "      <td>-0.078803</td>\n",
       "      <td>1.612727</td>\n",
       "      <td>-0.143772</td>\n",
       "      <td>-0.166974</td>\n",
       "      <td>-0.342475</td>\n",
       "      <td>-1.996583</td>\n",
       "    </tr>\n",
       "    <tr>\n",
       "      <th>2</th>\n",
       "      <td>-0.121359</td>\n",
       "      <td>-1.340163</td>\n",
       "      <td>-0.503198</td>\n",
       "      <td>1.773209</td>\n",
       "      <td>1.109969</td>\n",
       "      <td>-2.890083</td>\n",
       "      <td>0.379780</td>\n",
       "      <td>0.066084</td>\n",
       "      <td>-1.514654</td>\n",
       "      <td>0.791461</td>\n",
       "      <td>0.624501</td>\n",
       "      <td>-0.165946</td>\n",
       "      <td>0.207643</td>\n",
       "      <td>1.160686</td>\n",
       "      <td>-1.996562</td>\n",
       "    </tr>\n",
       "    <tr>\n",
       "      <th>3</th>\n",
       "      <td>1.965775</td>\n",
       "      <td>-0.185226</td>\n",
       "      <td>-0.010309</td>\n",
       "      <td>1.792993</td>\n",
       "      <td>-0.684093</td>\n",
       "      <td>-1.059647</td>\n",
       "      <td>-0.863291</td>\n",
       "      <td>0.178228</td>\n",
       "      <td>-1.387024</td>\n",
       "      <td>0.237609</td>\n",
       "      <td>-0.226487</td>\n",
       "      <td>-0.287924</td>\n",
       "      <td>-0.054952</td>\n",
       "      <td>0.140534</td>\n",
       "      <td>-1.996562</td>\n",
       "    </tr>\n",
       "    <tr>\n",
       "      <th>4</th>\n",
       "      <td>-0.038195</td>\n",
       "      <td>0.877737</td>\n",
       "      <td>-0.407193</td>\n",
       "      <td>1.548718</td>\n",
       "      <td>-0.237033</td>\n",
       "      <td>-0.451449</td>\n",
       "      <td>0.403034</td>\n",
       "      <td>0.538196</td>\n",
       "      <td>0.817739</td>\n",
       "      <td>0.592941</td>\n",
       "      <td>-0.822843</td>\n",
       "      <td>-1.119670</td>\n",
       "      <td>0.753074</td>\n",
       "      <td>-0.073403</td>\n",
       "      <td>-1.996541</td>\n",
       "    </tr>\n",
       "  </tbody>\n",
       "</table>\n",
       "</div>"
      ],
      "text/plain": [
       "        V18        V2        V5        V3       V17       V16        V4  \\\n",
       "0  0.025791 -0.072781 -0.338321  2.536347  0.207971 -0.470401  1.378155   \n",
       "1 -0.183361  0.266151  0.060018  0.166480 -0.114805  0.463917  0.448154   \n",
       "2 -0.121359 -1.340163 -0.503198  1.773209  1.109969 -2.890083  0.379780   \n",
       "3  1.965775 -0.185226 -0.010309  1.792993 -0.684093 -1.059647 -0.863291   \n",
       "4 -0.038195  0.877737 -0.407193  1.548718 -0.237033 -0.451449  0.403034   \n",
       "\n",
       "        V12        V9        V7       V11       V14       V10    Amount  \\\n",
       "0 -0.617801  0.363787  0.239599 -0.551600 -0.311169  0.090794  0.244964   \n",
       "1  1.065235 -0.255425 -0.078803  1.612727 -0.143772 -0.166974 -0.342475   \n",
       "2  0.066084 -1.514654  0.791461  0.624501 -0.165946  0.207643  1.160686   \n",
       "3  0.178228 -1.387024  0.237609 -0.226487 -0.287924 -0.054952  0.140534   \n",
       "4  0.538196  0.817739  0.592941 -0.822843 -1.119670  0.753074 -0.073403   \n",
       "\n",
       "       Time  \n",
       "0 -1.996583  \n",
       "1 -1.996583  \n",
       "2 -1.996562  \n",
       "3 -1.996562  \n",
       "4 -1.996541  "
      ]
     },
     "metadata": {},
     "output_type": "display_data"
    }
   ],
   "source": [
    "from sklearn.preprocessing import StandardScaler\n",
    "from daal4py import normalization_zscore\n",
    "\n",
    "def normalize_features(X, columns_to_normalize):\n",
    "    # 复制原始数据框，以免修改原始数据\n",
    "    X_normalized = X.copy()\n",
    "\n",
    "    # 初始化 StandardScaler\n",
    "    scaler = StandardScaler()\n",
    "\n",
    "    # 对指定列进行归一化\n",
    "    X_normalized[columns_to_normalize] = scaler.fit_transform(X[columns_to_normalize])\n",
    "\n",
    "    return X_normalized\n",
    "\n",
    "x = selected_df.drop('Class', axis=1)\n",
    "y = selected_df['Class']\n",
    "x = normalize_features(x, ['Time', 'Amount'])\n",
    "display(x.head())"
   ]
  },
  {
   "cell_type": "markdown",
   "id": "cf92798b-a696-4934-b947-ca3bda08c01f",
   "metadata": {
    "tags": []
   },
   "source": [
    "## Split The Dataset"
   ]
  },
  {
   "cell_type": "code",
   "execution_count": 14,
   "id": "faa9570e-b162-4bf4-87ac-51777d451588",
   "metadata": {},
   "outputs": [],
   "source": [
    "# from sklearn.model_selection import train_test_split\n",
    "\n",
    "# 划分数据集 need not to be executed twice\n",
    "# x_train, x_test, y_train, y_test = train_test_split(x, y, test_size=0.2, random_state=42)\n",
    "\n",
    "# 保存训练集和测试集\n",
    "# x_train.to_csv('x_train.csv', header = True, index = False)\n",
    "# x_test.to_csv('x_test.csv', header = True, index = False)\n",
    "# y_train.to_csv('y_train.csv', header = True, index = False)\n",
    "# y_test.to_csv('y_test.csv', header = True, index= False)"
   ]
  }
 ],
 "metadata": {
  "kernelspec": {
   "display_name": "modin-hdk",
   "language": "python",
   "name": "modin-hdk"
  },
  "language_info": {
   "codemirror_mode": {
    "name": "ipython",
    "version": 3
   },
   "file_extension": ".py",
   "mimetype": "text/x-python",
   "name": "python",
   "nbconvert_exporter": "python",
   "pygments_lexer": "ipython3",
   "version": "3.9.16"
  }
 },
 "nbformat": 4,
 "nbformat_minor": 5
}
