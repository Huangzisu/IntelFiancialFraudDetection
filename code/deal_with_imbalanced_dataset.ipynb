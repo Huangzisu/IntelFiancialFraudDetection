{
 "cells": [
  {
   "cell_type": "markdown",
   "id": "95ff9956-8e3b-44c7-af5c-a5e85a7f8a1d",
   "metadata": {},
   "source": [
    "## Dealing With Imbalanced Dataset"
   ]
  },
  {
   "cell_type": "code",
   "execution_count": 1,
   "id": "af8db4bb-7083-4a4d-a752-145761d13f32",
   "metadata": {},
   "outputs": [],
   "source": [
    "import modin.pandas as modin_pd\n",
    "import warnings\n",
    "warnings.filterwarnings('ignore')"
   ]
  },
  {
   "cell_type": "code",
   "execution_count": 2,
   "id": "e102f280-3db2-4f8e-a5ba-589f97e762eb",
   "metadata": {},
   "outputs": [],
   "source": [
    "x_train = modin_pd.read_csv(\"x_train.csv\")\n",
    "y_train = modin_pd.read_csv(\"y_train.csv\")"
   ]
  },
  {
   "cell_type": "markdown",
   "id": "92febdbc-ffdf-42a7-aa2b-fd9b910f6921",
   "metadata": {},
   "source": [
    "### Method1: Random Over Sampling"
   ]
  },
  {
   "cell_type": "code",
   "execution_count": 3,
   "id": "1a1527a1-6175-46a9-abf2-192b93ac0ed9",
   "metadata": {},
   "outputs": [
    {
     "name": "stdout",
     "output_type": "stream",
     "text": [
      "Defaulting to user installation because normal site-packages is not writeable\n",
      "Requirement already satisfied: imblearn in ./.local/lib/python3.9/site-packages (0.0)\n",
      "Requirement already satisfied: imbalanced-learn in ./.local/lib/python3.9/site-packages (from imblearn) (0.11.0)\n",
      "Requirement already satisfied: numpy>=1.17.3 in /glob/development-tools/versions/oneapi/2023.2.0.1/oneapi/intelpython/python3.9/lib/python3.9/site-packages (from imbalanced-learn->imblearn) (1.24.3)\n",
      "Requirement already satisfied: scipy>=1.5.0 in /glob/development-tools/versions/oneapi/2023.2.0.1/oneapi/intelpython/python3.9/lib/python3.9/site-packages (from imbalanced-learn->imblearn) (1.10.1)\n",
      "Requirement already satisfied: scikit-learn>=1.0.2 in /glob/development-tools/versions/oneapi/2023.2.0.1/oneapi/intelpython/python3.9/lib/python3.9/site-packages (from imbalanced-learn->imblearn) (1.2.2)\n",
      "Requirement already satisfied: joblib>=1.1.1 in /glob/development-tools/versions/oneapi/2023.2.0.1/oneapi/intelpython/python3.9/lib/python3.9/site-packages (from imbalanced-learn->imblearn) (1.2.0)\n",
      "Requirement already satisfied: threadpoolctl>=2.0.0 in /glob/development-tools/versions/oneapi/2023.2.0.1/oneapi/intelpython/python3.9/lib/python3.9/site-packages (from imbalanced-learn->imblearn) (3.1.0)\n"
     ]
    }
   ],
   "source": [
    "!pip install imblearn"
   ]
  },
  {
   "cell_type": "code",
   "execution_count": 4,
   "id": "2ed57492-ea69-49d8-90b8-f69b369209a6",
   "metadata": {},
   "outputs": [],
   "source": [
    "from imblearn.over_sampling import RandomOverSampler\n",
    "from collections import Counter\n",
    "\n",
    "def Random_Oversampling(x_train, y_train):\n",
    "    print('Before ROS: {0}'.format(Counter(y_train['Class'])))\n",
    "    ros = RandomOverSampler(random_state=42, sampling_strategy='auto') # 'auto' means proportion --- 1:1\n",
    "    x_train_ros, y_train_ros = ros.fit_resample(x_train, y_train)\n",
    "    print('After ROS: {0}'.format(Counter(y_train_ros['Class'])))\n",
    "    return x_train_ros, y_train_ros"
   ]
  },
  {
   "cell_type": "code",
   "execution_count": 5,
   "id": "cb336672-53b9-4a7c-a30e-be305c9faca2",
   "metadata": {},
   "outputs": [
    {
     "name": "stdout",
     "output_type": "stream",
     "text": [
      "Before ROS: Counter({0: 227451, 1: 394})\n",
      "After ROS: Counter({0: 227451, 1: 227451})\n",
      "x_train_ros shape:(454902, 15)\n",
      "y_train_ros shape:(454902, 1)\n"
     ]
    }
   ],
   "source": [
    "x_train_ros, y_train_ros = Random_Oversampling(x_train, y_train)\n",
    "print(\"x_train_ros shape:\" + str(x_train_ros.shape))\n",
    "print(\"y_train_ros shape:\" + str(y_train_ros.shape))\n",
    "x_train_ros.to_csv('x_train_ros.csv', header = True, index = False)\n",
    "y_train_ros.to_csv('y_train_ros.csv', header = True, index = False)"
   ]
  },
  {
   "cell_type": "markdown",
   "id": "60f9fa78-9a6b-4a3a-b57b-a68f1fdc8852",
   "metadata": {},
   "source": [
    "### Method2：SMOTE（Synthetic Minority Oversampling Technique）"
   ]
  },
  {
   "cell_type": "code",
   "execution_count": 6,
   "id": "d4d95b4c-0da4-4dd9-9cda-20274db2ba60",
   "metadata": {},
   "outputs": [],
   "source": [
    "from imblearn.over_sampling import SMOTE\n",
    "\n",
    "def SMOTE_method(x_train, y_train):\n",
    "    print('Before SMOTE: {0}'.format(Counter(y_train['Class'])))\n",
    "    smote = SMOTE(random_state=42)\n",
    "    x_train_smote, y_train_smote = smote.fit_resample(x_train, y_train)\n",
    "    print('After SMOTE: {0}'.format(Counter(y_train_smote['Class'])))\n",
    "    return x_train_smote, y_train_smote"
   ]
  },
  {
   "cell_type": "code",
   "execution_count": 7,
   "id": "5b3ffea9-4aee-4c9d-b530-f0abe00755c9",
   "metadata": {},
   "outputs": [
    {
     "name": "stdout",
     "output_type": "stream",
     "text": [
      "Before SMOTE: Counter({0: 227451, 1: 394})\n",
      "After SMOTE: Counter({0: 227451, 1: 227451})\n",
      "x_train_smote shape:(454902, 15)\n",
      "y_train_smote shape:(454902, 1)\n"
     ]
    }
   ],
   "source": [
    "x_train_smote, y_train_smote = SMOTE_method(x_train, y_train)\n",
    "print(\"x_train_smote shape:\" + str(x_train_smote.shape))\n",
    "print(\"y_train_smote shape:\" + str(y_train_smote.shape))\n",
    "x_train_smote.to_csv('x_train_smote.csv', header = True, index = False)\n",
    "y_train_smote.to_csv('y_train_smote.csv', header = True, index = False)"
   ]
  },
  {
   "cell_type": "markdown",
   "id": "1faf5aea-9451-4d59-a3a4-f4cd12cfcc0b",
   "metadata": {},
   "source": [
    "### Method3：Combined Sampling（SMOTETomek）"
   ]
  },
  {
   "cell_type": "code",
   "execution_count": 8,
   "id": "83824a2e-858b-4541-be5a-bfb84406f4c3",
   "metadata": {},
   "outputs": [],
   "source": [
    "from imblearn.combine import SMOTETomek\n",
    "\n",
    "def Combined_sampling(x_train, y_train):\n",
    "    print('Before CS: {0}'.format(Counter(y_train['Class'])))\n",
    "    cs = SMOTETomek(random_state=42)\n",
    "    x_train_cs, y_train_cs = cs.fit_resample(x_train, y_train)\n",
    "    print('After CS: {0}'.format(Counter(y_train_cs['Class'])))\n",
    "    return x_train_cs, y_train_cs\n"
   ]
  },
  {
   "cell_type": "code",
   "execution_count": 9,
   "id": "e3a61c78-a0f2-4bc8-851b-7a5ed637f763",
   "metadata": {},
   "outputs": [
    {
     "name": "stdout",
     "output_type": "stream",
     "text": [
      "Before CS: Counter({0: 227451, 1: 394})\n",
      "After CS: Counter({0: 227451, 1: 227451})\n",
      "x_train_cs shape: (454902, 15)\n",
      "y_train_cs shape: (454902, 1)\n"
     ]
    }
   ],
   "source": [
    "x_train_cs, y_train_cs = Combined_sampling(x_train, y_train)\n",
    "print(\"x_train_cs shape: \" + str(x_train_cs.shape))\n",
    "print(\"y_train_cs shape: \" + str(y_train_cs.shape))\n",
    "x_train_cs.to_csv('x_train_cs.csv', header=True, index=False)\n",
    "y_train_cs.to_csv('y_train_cs.csv', header=True, index=False)"
   ]
  },
  {
   "cell_type": "markdown",
   "id": "f6b6cee9-edb5-4d5b-acab-23aec9c47d2b",
   "metadata": {},
   "source": [
    "### Method4：ADASYN（Adaptive Synthetic Sampling）"
   ]
  },
  {
   "cell_type": "code",
   "execution_count": 10,
   "id": "d5e97f39-fbe2-4542-896f-8abbed75a30c",
   "metadata": {},
   "outputs": [
    {
     "name": "stdout",
     "output_type": "stream",
     "text": [
      "Before ADASYN: Counter({0: 227451, 1: 394})\n",
      "After ADASYN: Counter({0: 227451, 1: 227444})\n",
      "x_train_adasyn shape: (454895, 15)\n",
      "y_train_adasyn shape: (454895, 1)\n"
     ]
    }
   ],
   "source": [
    "from imblearn.over_sampling import ADASYN\n",
    "\n",
    "def ADASYN_sampling(x_train, y_train):\n",
    "    print('Before ADASYN: {0}'.format(Counter(y_train['Class'])))\n",
    "    adasyn = ADASYN(random_state=42)\n",
    "    x_train_adasyn, y_train_adasyn = adasyn.fit_resample(x_train, y_train)\n",
    "    print('After ADASYN: {0}'.format(Counter(y_train_adasyn['Class'])))\n",
    "    return x_train_adasyn, y_train_adasyn\n",
    "\n",
    "x_train_adasyn, y_train_adasyn = ADASYN_sampling(x_train, y_train)\n",
    "print(\"x_train_adasyn shape: \" + str(x_train_adasyn.shape))\n",
    "print(\"y_train_adasyn shape: \" + str(y_train_adasyn.shape))\n",
    "x_train_adasyn.to_csv('x_train_adasyn.csv', header=True, index=False)\n",
    "y_train_adasyn.to_csv('y_train_adasyn.csv', header=True, index=False)\n"
   ]
  },
  {
   "cell_type": "markdown",
   "id": "ccc70cb5-3982-498a-b7d3-fc74f544e9d5",
   "metadata": {},
   "source": [
    "### Method5: NearMiss"
   ]
  },
  {
   "cell_type": "code",
   "execution_count": 11,
   "id": "cdb949e2-d155-4fd5-8899-16d0de2177c2",
   "metadata": {},
   "outputs": [
    {
     "name": "stdout",
     "output_type": "stream",
     "text": [
      "Before NearMiss: Counter({0: 227451, 1: 394})\n",
      "After NearMiss: Counter({0: 394, 1: 394})\n",
      "x_train_nearmiss shape: (788, 15)\n",
      "y_train_nearmiss shape: (788, 1)\n"
     ]
    }
   ],
   "source": [
    "from imblearn.under_sampling import NearMiss\n",
    "\n",
    "def NearMiss_sampling(x_train, y_train):\n",
    "    print('Before NearMiss: {0}'.format(Counter(y_train['Class'])))\n",
    "    nearmiss = NearMiss(version=2,sampling_strategy='auto')\n",
    "    x_train_nearmiss, y_train_nearmiss = nearmiss.fit_resample(x_train, y_train)\n",
    "    print('After NearMiss: {0}'.format(Counter(y_train_nearmiss['Class'])))\n",
    "    return x_train_nearmiss, y_train_nearmiss\n",
    "\n",
    "x_train_nearmiss, y_train_nearmiss = NearMiss_sampling(x_train, y_train)\n",
    "print(\"x_train_nearmiss shape: \" + str(x_train_nearmiss.shape))\n",
    "print(\"y_train_nearmiss shape: \" + str(y_train_nearmiss.shape))\n",
    "x_train_nearmiss.to_csv('x_train_nearmiss.csv', header=True, index=False)\n",
    "y_train_nearmiss.to_csv('y_train_nearmiss.csv', header=True, index=False)\n"
   ]
  }
 ],
 "metadata": {
  "kernelspec": {
   "display_name": "modin-hdk",
   "language": "python",
   "name": "modin-hdk"
  },
  "language_info": {
   "codemirror_mode": {
    "name": "ipython",
    "version": 3
   },
   "file_extension": ".py",
   "mimetype": "text/x-python",
   "name": "python",
   "nbconvert_exporter": "python",
   "pygments_lexer": "ipython3",
   "version": "3.9.16"
  }
 },
 "nbformat": 4,
 "nbformat_minor": 5
}
