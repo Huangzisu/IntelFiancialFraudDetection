{
 "cells": [
  {
   "cell_type": "code",
   "execution_count": 2,
   "id": "8d65f282-4902-45f8-86c4-c27d92d8e223",
   "metadata": {},
   "outputs": [
    {
     "name": "stdout",
     "output_type": "stream",
     "text": [
      "Defaulting to user installation because normal site-packages is not writeable\n",
      "Requirement already satisfied: intel_extension_for_pytorch in /glob/development-tools/versions/oneapi/2023.2.0.1/oneapi/pytorch/2.0.1.0/lib/python3.9/site-packages (2.0.110+xpu)\n",
      "Requirement already satisfied: psutil in /glob/development-tools/versions/oneapi/2023.2.0.1/oneapi/pytorch/2.0.1.0/lib/python3.9/site-packages (from intel_extension_for_pytorch) (5.9.5)\n",
      "Requirement already satisfied: numpy in /glob/development-tools/versions/oneapi/2023.2.0.1/oneapi/pytorch/2.0.1.0/lib/python3.9/site-packages (from intel_extension_for_pytorch) (1.24.3)\n",
      "Note: you may need to restart the kernel to use updated packages.\n"
     ]
    }
   ],
   "source": [
    "pip install intel_extension_for_pytorch"
   ]
  },
  {
   "cell_type": "code",
   "execution_count": null,
   "id": "29926ef6-2d83-4c31-840f-e8c08dbe3f00",
   "metadata": {},
   "outputs": [],
   "source": [
    "import torch\n",
    "import torch.nn as nn\n",
    "import torch.optim as optim\n",
    "import time\n",
    "import intel_extension_for_pytorch as ipex\n",
    "\n",
    "class NeuralNetwork(nn.Module):\n",
    "    def __init__(self, input_size, hidden_size, output_size):\n",
    "        super(NeuralNetwork, self).__init__()\n",
    "        self.fc1 = nn.Linear(input_size, hidden_size)\n",
    "        self.fc2 = nn.Linear(hidden_size, hidden_size)\n",
    "        self.fc3 = nn.Linear(hidden_size, output_size)\n",
    "        self.relu = nn.ReLU()\n",
    "\n",
    "    def forward(self, x):\n",
    "        x = self.fc1(x)\n",
    "        x = self.relu(x)\n",
    "        x = self.fc2(x)\n",
    "        x = self.relu(x)\n",
    "        x = self.fc3(x)\n",
    "        return x\n",
    "\n",
    "def train_model_neural_network(hidden_size, learning_rate, optimize=False):\n",
    "    # Load data\n",
    "    X_train, y_train = pd.read_csv('x_train.csv'), pd.read_csv('y_train.csv').values.ravel()\n",
    "    X_train = torch.from_numpy(X_train.values).float()\n",
    "    y_train = torch.from_numpy(y_train).long()\n",
    "\n",
    "    # Define the model\n",
    "    input_size = X_train.shape[1]\n",
    "    output_size = len(torch.unique(y_train))\n",
    "    model = NeuralNetwork(input_size, hidden_size, output_size)\n",
    "\n",
    "    # Define the loss function and optimizer\n",
    "    criterion = nn.CrossEntropyLoss()\n",
    "    optimizer = optim.SGD(model.parameters(), lr=learning_rate)\n",
    "\n",
    "    if optimize:\n",
    "        model = ipex.optimize(model)\n",
    "        # Enable Intel oneAPI PyTorch\n",
    "#         model = model.to('oneapi')\n",
    "#         model = model.to(torch.float32)\n",
    "#         model = model.to(torch.intel.cpu)\n",
    "        \n",
    "\n",
    "    # Start training\n",
    "    start_time = time.time()\n",
    "    for epoch in range(100):\n",
    "        optimizer.zero_grad()\n",
    "        outputs = model(X_train)\n",
    "        loss = criterion(outputs, y_train)\n",
    "        loss.backward()\n",
    "        optimizer.step()\n",
    "    end_time = time.time()\n",
    "\n",
    "    # Print training time\n",
    "    print(f'Training Time: {end_time - start_time} seconds\\n')\n",
    "\n",
    "    # Return the trained model\n",
    "    return model\n",
    "\n",
    "# Train the model without optimization\n",
    "trained_model1 = train_model_neural_network(hidden_size=150, learning_rate=0.001, optimize=False)\n",
    "\n",
    "# Train the model with optimization\n",
    "trained_model2 = train_model_neural_network(hidden_size=150, learning_rate=0.001, optimize=True)"
   ]
  },
  {
   "cell_type": "code",
   "execution_count": null,
   "id": "6f19ca92-88a4-4f01-9990-3ed4cd8f0e5c",
   "metadata": {},
   "outputs": [],
   "source": []
  }
 ],
 "metadata": {
  "kernelspec": {
   "display_name": "PyTorch (AI kit)",
   "language": "python",
   "name": "c009-intel_distribution_of_python_3_oneapi-beta05-pytorch"
  },
  "language_info": {
   "codemirror_mode": {
    "name": "ipython",
    "version": 3
   },
   "file_extension": ".py",
   "mimetype": "text/x-python",
   "name": "python",
   "nbconvert_exporter": "python",
   "pygments_lexer": "ipython3",
   "version": "3.9.16"
  }
 },
 "nbformat": 4,
 "nbformat_minor": 5
}
